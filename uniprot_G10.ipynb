{
 "cells": [
  {
   "cell_type": "markdown",
   "metadata": {},
   "source": [
    "# UniProt\n",
    "## Análise genética da resistência a antibióticos em Legionella pneumophila\n",
    "### Mestrado em Bioinformática, Laboratórios de Bioinformática, Grupo 10"
   ]
  },
  {
   "cell_type": "code",
   "execution_count": 5,
   "metadata": {},
   "outputs": [
    {
     "name": "stdout",
     "output_type": "stream",
     "text": [
      "Nome: MIP_LEGPH \n",
      "\n",
      "ID UniProt: Q5ZXE0\n",
      "ID UniProt: P20380\n",
      "\n",
      "RecName: Full=Outer membrane protein MIP\n",
      " EC=5.2.1.8\n",
      " AltName: Full=Macrophage infectivity potentiator\n",
      " AltName: Full=Peptidyl-prolyl cis-trans isomerase\n",
      " Short=PPIase\n",
      " AltName: Full=Rotamase\n",
      " Flags: Precursor\n",
      "\n",
      "Organismo: 'Legionella pneumophila subsp. pneumophila (strain Philadelphia 1 / ATCC 33152 / DSM 7513).' \n",
      "\n",
      "Classificao do organismo: ['Bacteria', 'Proteobacteria', 'Gammaproteobacteria', 'Legionellales', 'Legionellaceae', 'Legionella'] \n",
      "\n",
      "MKMKLVTAAVMGLAMSTAMA... \n",
      "\n",
      "Tamanho da seq: 233 \n",
      "\n",
      "Palavras Chave: ['3D-structure', 'Cell outer membrane', 'Direct protein sequencing', 'Isomerase', 'Membrane', 'Reference proteome', 'Rotamase', 'Signal', 'Virulence'] \n",
      "\n"
     ]
    }
   ],
   "source": [
    "from Bio import ExPASy\n",
    "import Bio.SwissProt as sp\n",
    "\n",
    "with open(\"mip_uniprot.txt\") as handle:\n",
    "    record = sp.read(handle)\n",
    "    print(\"Nome:\", record.entry_name,\"\\n\")\n",
    "    for acc in record.accessions:\n",
    "        print(\"ID UniProt:\", acc)\n",
    "    print()\n",
    "    for des in record.description.split(\";\"):\n",
    "        print(des)\n",
    "    print(\"Organismo:\",repr(record.organism),\"\\n\")\n",
    "    print(\"Classificao do organismo:\",record.organism_classification,\"\\n\")\n",
    "    print(record.sequence[:20] + \"...\",\"\\n\")\n",
    "    print(\"Tamanho da seq:\", record.sequence_length,\"\\n\")\n",
    "    print(\"Palavras Chave:\",record.keywords,\"\\n\")\n",
    "    \n",
    "    #############################\n",
    "    #rec = sp.KeyWList(handle)\n",
    "    #print(\"Termos GO:\",rec)\n",
    "    #############################\n",
    "    \n",
    "counter = 1\n",
    "for r in record.features:\n",
    "    if r.type == \"ACT_SITE\":\n",
    "        print(f\"Sítio ativo {counter}:\",r.location)\n",
    "        counter += 1"
   ]
  },
  {
   "cell_type": "markdown",
   "metadata": {},
   "source": [
    "LpeB"
   ]
  },
  {
   "cell_type": "code",
   "execution_count": 8,
   "metadata": {},
   "outputs": [
    {
     "name": "stdout",
     "output_type": "stream",
     "text": [
      "Nome: A0A104IKR3_9BURK \n",
      "\n",
      "ID UniProt: A0A104IKR3\n",
      "\n",
      "RecName: Full=Alkanesulfonate monooxygenase {ECO:0000256|ARBA:ARBA00012113, ECO:0000256|HAMAP-Rule:MF_01229}\n",
      " EC=1.14.14.5 {ECO:0000256|ARBA:ARBA00012113, ECO:0000256|HAMAP-Rule:MF_01229}\n",
      " AltName: Full=FMNH2-dependent aliphatic sulfonate monooxygenase {ECO:0000256|HAMAP-Rule:MF_01229}\n",
      "\n",
      "Organismo: 'Burkholderia ubonensis.' \n",
      "\n",
      "Classificao do organismo: ['Bacteria', 'Proteobacteria', 'Betaproteobacteria', 'Burkholderiales', 'Burkholderiaceae', 'Burkholderia', 'Burkholderia cepacia complex'] \n",
      "\n",
      "MNVFWFIPTHGDSRYLGTAE... \n",
      "\n",
      "Tamanho da seq: 385 \n",
      "\n",
      "Palavras Chave: ['Flavoprotein {ECO:0000256|ARBA:ARBA00022643, ECO:0000256|HAMAP-', 'Rule:MF_01229}', 'FMN', 'Monooxygenase {ECO:0000256|ARBA:ARBA00023033, ECO:0000256|HAMAP-', 'Rule:MF_01229}', 'Oxidoreductase {ECO:0000256|ARBA:ARBA00023033, ECO:0000256|HAMAP-', 'Rule:MF_01229}'] \n",
      "\n"
     ]
    }
   ],
   "source": [
    "from Bio import ExPASy\n",
    "import Bio.SwissProt as sp\n",
    "\n",
    "with open(\"lpeb_uniprot.txt\") as handle:\n",
    "    record = sp.read(handle)\n",
    "    print(\"Nome:\", record.entry_name,\"\\n\")\n",
    "    for acc in record.accessions:\n",
    "        print(\"ID UniProt:\", acc)\n",
    "    print()\n",
    "    for des in record.description.split(\";\"):\n",
    "        print(des)\n",
    "    print(\"Organismo:\",repr(record.organism),\"\\n\")\n",
    "    print(\"Classificao do organismo:\",record.organism_classification,\"\\n\")\n",
    "    print(record.sequence[:20] + \"...\",\"\\n\")\n",
    "    print(\"Tamanho da seq:\", record.sequence_length,\"\\n\")\n",
    "    print(\"Palavras Chave:\",record.keywords,\"\\n\")\n",
    "    \n",
    "    #############################\n",
    "    #rec = sp.KeyWList(handle)\n",
    "    #print(\"Termos GO:\",rec)\n",
    "    #############################\n",
    "    \n",
    "counter = 1\n",
    "for r in record.features:\n",
    "    if r.type == \"ACT_SITE\":\n",
    "        print(f\"Sítio ativo {counter}:\",r.location)\n",
    "        counter += 1"
   ]
  },
  {
   "cell_type": "markdown",
   "metadata": {},
   "source": [
    "LpeA"
   ]
  },
  {
   "cell_type": "code",
   "execution_count": 9,
   "metadata": {},
   "outputs": [
    {
     "name": "stdout",
     "output_type": "stream",
     "text": [
      "Nome: A0A128XGL5_LEGPN \n",
      "\n",
      "ID UniProt: A0A128XGL5\n",
      "\n",
      "RecName: Full=Elongation factor 4 {ECO:0000256|HAMAP-Rule:MF_00071}\n",
      " Short=EF-4 {ECO:0000256|HAMAP-Rule:MF_00071}\n",
      " EC=3.6.5.n1 {ECO:0000256|HAMAP-Rule:MF_00071}\n",
      " AltName: Full=Ribosomal back-translocase LepA {ECO:0000256|HAMAP-Rule:MF_00071}\n",
      "\n",
      "Organismo: 'Legionella pneumophila.' \n",
      "\n",
      "Classificao do organismo: ['Bacteria', 'Proteobacteria', 'Gammaproteobacteria', 'Legionellales', 'Legionellaceae', 'Legionella'] \n",
      "\n",
      "MLFARRLEQLKDLNRIRNFS... \n",
      "\n",
      "Tamanho da seq: 610 \n",
      "\n",
      "Palavras Chave: ['Cell membrane', 'Elongation factor', 'GTP-binding {ECO:0000256|ARBA:ARBA00023134, ECO:0000256|HAMAP-', 'Rule:MF_00071}', 'Hydrolase', 'Membrane', 'Nucleotide-binding {ECO:0000256|ARBA:ARBA00023134, ECO:0000256|HAMAP-', 'Rule:MF_00071}', 'Protein biosynthesis'] \n",
      "\n"
     ]
    }
   ],
   "source": [
    "from Bio import ExPASy\n",
    "import Bio.SwissProt as sp\n",
    "\n",
    "with open(\"lpea_uniprot.txt\") as handle:\n",
    "    record = sp.read(handle)\n",
    "    print(\"Nome:\", record.entry_name,\"\\n\")\n",
    "    for acc in record.accessions:\n",
    "        print(\"ID UniProt:\", acc)\n",
    "    print()\n",
    "    for des in record.description.split(\";\"):\n",
    "        print(des)\n",
    "    print(\"Organismo:\",repr(record.organism),\"\\n\")\n",
    "    print(\"Classificao do organismo:\",record.organism_classification,\"\\n\")\n",
    "    print(record.sequence[:20] + \"...\",\"\\n\")\n",
    "    print(\"Tamanho da seq:\", record.sequence_length,\"\\n\")\n",
    "    print(\"Palavras Chave:\",record.keywords,\"\\n\")\n",
    "    \n",
    "    #############################\n",
    "    #rec = sp.KeyWList(handle)\n",
    "    #print(\"Termos GO:\",rec)\n",
    "    #############################\n",
    "    \n",
    "counter = 1\n",
    "for r in record.features:\n",
    "    if r.type == \"ACT_SITE\":\n",
    "        print(f\"Sítio ativo {counter}:\",r.location)\n",
    "        counter += 1"
   ]
  }
 ],
 "metadata": {
  "interpreter": {
   "hash": "f6f09947e253af544d68523b25c84466c5032576772f7e30eec03ecb9a460324"
  },
  "kernelspec": {
   "display_name": "Python 3",
   "language": "python",
   "name": "python3"
  },
  "language_info": {
   "codemirror_mode": {
    "name": "ipython",
    "version": 3
   },
   "file_extension": ".py",
   "mimetype": "text/x-python",
   "name": "python",
   "nbconvert_exporter": "python",
   "pygments_lexer": "ipython3",
   "version": "3.8.8"
  }
 },
 "nbformat": 4,
 "nbformat_minor": 4
}
