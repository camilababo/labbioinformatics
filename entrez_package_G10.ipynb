{
 "cells": [
  {
   "cell_type": "markdown",
   "metadata": {},
   "source": [
    "# Entrez Package\n",
    "## Análise genética da resistência a antibióticos em Legionella pneumophila\n",
    "### Mestrado em Bioinformática, Laboratórios de Bioinformática, Grupo 10"
   ]
  },
  {
   "cell_type": "code",
   "execution_count": null,
   "metadata": {},
   "outputs": [
    {
     "name": "stdout",
     "output_type": "stream",
     "text": [
      "Título: Legionella pneumophila str. Paris, complete sequence\n",
      "ID GenBank (e outros IDs): ['NC_006368']\n",
      "Taxonomia: ['Bacteria', 'Proteobacteria', 'Gammaproteobacteria', 'Legionellales', 'Legionellaceae', 'Legionella']\n",
      "Tipo de molécula: DNA\n",
      "Topologia: linear\n",
      "Referências externas: ['BioProject:PRJNA224116', 'BioSample:SAMEA3138252', 'Assembly:GCF_000048645.1']\n",
      "\n",
      "Gene: mip\n",
      "Produto: ['macrophage infectivity potentiator Mip']\n",
      "\n",
      "Gene: lpeB\n",
      "Produto: ['multidrug efflux RND transporter permease subunit LpeB']\n",
      "\n"
     ]
    }
   ],
   "source": [
    "from Bio import Entrez\n",
    "from Bio import SeqIO\n",
    "\n",
    "genes_int = [\"lpeB\",\"mip\"]\n",
    "local = {}\n",
    "gene_seq = {}\n",
    "prot_id = {}\n",
    "prot = {}\n",
    "\n",
    "Entrez.email = \"pg45964@alunos.uminho.pt\"\n",
    "handle = Entrez.efetch(db=\"nucleotide\", rettype=\"gbwithparts\", retmode=\"text\", id=\"NC_006368.1\")\n",
    "seq_record = SeqIO.read(handle, \"genbank\")\n",
    "\n",
    "################################\n",
    "print(\"Título:\",seq_record.description)\n",
    "print(\"ID GenBank (e outros IDs):\",seq_record.annotations[\"accessions\"])\n",
    "print(\"Taxonomia:\",seq_record.annotations[\"taxonomy\"])\n",
    "print(\"Tipo de molécula:\",seq_record.annotations[\"molecule_type\"])\n",
    "print(\"Topologia:\",seq_record.annotations[\"topology\"])\n",
    "print(\"Referências externas:\",seq_record.dbxrefs)\n",
    "print()\n",
    "################################\n",
    "\n",
    "for s in seq_record.features:\n",
    "    if s.type == \"CDS\":\n",
    "        qual = dict(s.qualifiers)\n",
    "        \n",
    "        if \"gene\" in qual:\n",
    "            if qual[\"gene\"][0] in genes_int:\n",
    "                loc = s.location\n",
    "                #########################\n",
    "                print(\"Gene:\",qual[\"gene\"][0])\n",
    "                print(\"Produto:\", qual[\"product\"])\n",
    "                #print(\"Início:\", int(loc.start))\n",
    "                #print(\"Fim:\", int(loc.end))\n",
    "                #print(\"Cadeia:\", int(loc.strand))\n",
    "                #print(\"ID Proteína:\", qual[\"protein_id\"])\n",
    "                print()\n",
    "                #########################\n",
    "                local[qual[\"gene\"][0]] = (int(loc.start), int(loc.end), loc.strand)\n",
    "                gene_seq[qual[\"gene\"][0]] = s.extract(seq_record.seq)\n",
    "                prot_id[qual[\"gene\"][0]] = qual[\"protein_id\"]\n",
    "                prot[qual[\"gene\"][0]] = qual[\"translation\"]\n",
    "\n",
    "handle.close()"
   ]
  },
  {
   "cell_type": "code",
   "execution_count": null,
   "metadata": {},
   "outputs": [
    {
     "name": "stdout",
     "output_type": "stream",
     "text": [
      "{'mip': (959507, 960209, 1), 'lpeB': (3281865, 3284910, 1)}\n"
     ]
    }
   ],
   "source": [
    "print(local)"
   ]
  },
  {
   "cell_type": "code",
   "execution_count": null,
   "metadata": {},
   "outputs": [
    {
     "name": "stdout",
     "output_type": "stream",
     "text": [
      "Gene: lpeB\n",
      "Início: 3281865\n",
      "Fim: 3284910\n",
      "Cadeia: 1\n",
      "Sequência DNA: ATGAAACTCACCAGCTATTTCATCAAACATCCTGTAATCACCATCATCTTAAACGCCATGATTGTTGTTCTGGGG...\n",
      "ID Proteína: WP_015961836.1\n",
      "Sequência Proteica: MKLTSYFIKHPVITIILNAMIVVLGLLCLYNLSVREYPDINFPTITVSASYPNASPDLVETAITNVLEDRLAGIE...\n",
      "----------\n",
      "Gene: mip\n",
      "Início: 959507\n",
      "Fim: 960209\n",
      "Cadeia: 1\n",
      "Sequência DNA: ATGAAGATGAAATTGGTGACTGCAGCTGTTATGGGGCTTGCAATGTCAACAGCAATGGCTGCAACCGATGCCACA...\n",
      "ID Proteína: WP_011213317.1\n",
      "Sequência Proteica: MKMKLVTAAVMGLAMSTAMAATDATSLATDKDKLSYSIGADLGKNFKNQGIDVNPEAMAKGMQDAMSGAQLALTE...\n",
      "----------\n"
     ]
    }
   ],
   "source": [
    "from Bio import SeqIO\n",
    "\n",
    "genes_int = [\"lpeB\",\"mip\"]\n",
    "#local\n",
    "#gene_seq\n",
    "#prot_id\n",
    "#prot\n",
    "\n",
    "\n",
    "for g in genes_int:\n",
    "    ####################\n",
    "    print(\"Gene:\",g)\n",
    "    print(\"Início:\",local[g][0])\n",
    "    print(\"Fim:\",local[g][1])\n",
    "    print(\"Cadeia:\",local[g][2])\n",
    "    print(\"Sequência DNA:\",gene_seq[g][0:75]+\"...\")\n",
    "    print(\"ID Proteína:\",prot_id[g][0])\n",
    "    print(\"Sequência Proteica:\",prot[g][0][0:75]+\"...\")\n",
    "    print(\"----------\")\n",
    "    ####################\n",
    "    inicio, fim, strand = local[g]\n",
    "    annot = \";\".join([g,str(inicio),str(fim),str(strand),prot_id[g][0]])\n",
    "    \n",
    "    file = open(g+\".fasta\",\"w\")\n",
    "    file.write(\">\"+annot+\"\\n\"+str(gene_seq[g]))\n",
    "    file.close()\n",
    "    \n",
    "    file = open(g+\"_\"+prot_id[g][0]+\".fasta\",\"w\")\n",
    "    file.write(\">\"+annot+\"\\n\"+prot[g][0])\n",
    "    file.close()"
   ]
  }
 ],
 "metadata": {
  "kernelspec": {
   "display_name": "Python 3",
   "language": "python",
   "name": "python3"
  },
  "language_info": {
   "codemirror_mode": {
    "name": "ipython",
    "version": 3
   },
   "file_extension": ".py",
   "mimetype": "text/x-python",
   "name": "python",
   "nbconvert_exporter": "python",
   "pygments_lexer": "ipython3",
   "version": "3.8.8"
  }
 },
 "nbformat": 4,
 "nbformat_minor": 4
}
