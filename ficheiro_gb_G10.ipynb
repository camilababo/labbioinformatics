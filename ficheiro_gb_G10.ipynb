{
 "cells": [
  {
   "cell_type": "markdown",
   "metadata": {},
   "source": [
    "# Leitura a partir do ficheiro do genoma\n",
    "## Análise genética da resistência a antibióticos em Legionella pneumophila\n",
    "### Mestrado em Bioinformática, Laboratórios de Bioinformática, Grupo 10"
   ]
  },
  {
   "cell_type": "code",
   "execution_count": 18,
   "metadata": {},
   "outputs": [
    {
     "name": "stdout",
     "output_type": "stream",
     "text": [
      "ID: NC_006368.1\n",
      "Name: NC_006368\n",
      "Description: Legionella pneumophila str. Paris, complete sequence\n",
      "Database cross-references: BioProject:PRJNA224116, BioSample:SAMEA3138252, Assembly:GCF_000048645.1\n",
      "Number of features: 6270\n",
      "/molecule_type=DNA\n",
      "/topology=linear\n",
      "/data_file_division=CON\n",
      "/date=14-DEC-2021\n",
      "/accessions=['NC_006368']\n",
      "/sequence_version=1\n",
      "/keywords=['RefSeq', 'complete genome']\n",
      "/source=Legionella pneumophila str. Paris\n",
      "/organism=Legionella pneumophila str. Paris\n",
      "/taxonomy=['Bacteria', 'Proteobacteria', 'Gammaproteobacteria', 'Legionellales', 'Legionellaceae', 'Legionella']\n",
      "/references=[Reference(title='Evidence in the Legionella pneumophila genome for exploitation of host cell functions and high genome plasticity', ...), Reference(title='Direct Submission', ...)]\n",
      "/comment=REFSEQ INFORMATION: The reference sequence is identical to\n",
      "CR628336.1.\n",
      "The annotation was added by the NCBI Prokaryotic Genome Annotation\n",
      "Pipeline (PGAP). Information about PGAP can be found here:\n",
      "https://www.ncbi.nlm.nih.gov/genome/annotation_prok/\n",
      "/structured_comment=OrderedDict([('Genome-Annotation-Data', OrderedDict([('Annotation Provider', 'NCBI RefSeq'), ('Annotation Date', '12/14/2021 01:40:52'), ('Annotation Pipeline', 'NCBI Prokaryotic Genome Annotation Pipeline (PGAP)'), ('Annotation Method', 'Best-placed reference protein set; GeneMarkS-2+'), ('Annotation Software revision', '5.3'), ('Features Annotated', 'Gene; CDS; rRNA; tRNA; ncRNA; repeat_region'), ('Genes (total)', '3,275'), ('CDSs (total)', '3,219'), ('Genes (coding)', '3,170'), ('CDSs (with protein)', '3,170'), ('Genes (RNA)', '56'), ('rRNAs', '3, 3, 3 (5S, 16S, 23S)'), ('complete rRNAs', '3, 3, 3 (5S, 16S, 23S)'), ('tRNAs', '43'), ('ncRNAs', '4'), ('Pseudo Genes (total)', '49'), ('CDSs (without protein)', '49'), ('Pseudo Genes (ambiguous residues)', '0 of 49'), ('Pseudo Genes (frameshifted)', '17 of 49'), ('Pseudo Genes (incomplete)', '31 of 49'), ('Pseudo Genes (internal stop)', '11 of 49'), ('Pseudo Genes (multiple problems)', '9 of 49'), ('CRISPR Arrays', '1')]))])\n",
      "Seq('GGGTATAATTTATTGATTACTCAGATAACATATAGATTGAAATCTTTTTAGATT...CCC')\n"
     ]
    }
   ],
   "source": [
    "#Leitura do ficheiro\n",
    "from Bio import SeqIO\n",
    "file_path='sequence_full.gb'\n",
    "gb_obj=SeqIO.read(file_path,'gb')\n",
    "\n",
    "print(gb_obj)"
   ]
  },
  {
   "cell_type": "code",
   "execution_count": 2,
   "metadata": {},
   "outputs": [
    {
     "data": {
      "text/plain": [
       "Seq('GGGTATAATTTATTGATTACTCAGATAACATATAGATTGAAATCTTTTTAGATT...CCC')"
      ]
     },
     "execution_count": 2,
     "metadata": {},
     "output_type": "execute_result"
    }
   ],
   "source": [
    "gb_obj.seq"
   ]
  },
  {
   "cell_type": "code",
   "execution_count": 3,
   "metadata": {},
   "outputs": [
    {
     "data": {
      "text/plain": [
       "'NC_006368.1'"
      ]
     },
     "execution_count": 3,
     "metadata": {},
     "output_type": "execute_result"
    }
   ],
   "source": [
    "gb_obj.id"
   ]
  },
  {
   "cell_type": "code",
   "execution_count": 4,
   "metadata": {},
   "outputs": [
    {
     "data": {
      "text/plain": [
       "{'molecule_type': 'DNA',\n",
       " 'topology': 'linear',\n",
       " 'data_file_division': 'CON',\n",
       " 'date': '14-DEC-2021',\n",
       " 'accessions': ['NC_006368'],\n",
       " 'sequence_version': 1,\n",
       " 'keywords': ['RefSeq', 'complete genome'],\n",
       " 'source': 'Legionella pneumophila str. Paris',\n",
       " 'organism': 'Legionella pneumophila str. Paris',\n",
       " 'taxonomy': ['Bacteria',\n",
       "  'Proteobacteria',\n",
       "  'Gammaproteobacteria',\n",
       "  'Legionellales',\n",
       "  'Legionellaceae',\n",
       "  'Legionella'],\n",
       " 'references': [Reference(title='Evidence in the Legionella pneumophila genome for exploitation of host cell functions and high genome plasticity', ...),\n",
       "  Reference(title='Direct Submission', ...)],\n",
       " 'comment': 'REFSEQ INFORMATION: The reference sequence is identical to\\nCR628336.1.\\nThe annotation was added by the NCBI Prokaryotic Genome Annotation\\nPipeline (PGAP). Information about PGAP can be found here:\\nhttps://www.ncbi.nlm.nih.gov/genome/annotation_prok/',\n",
       " 'structured_comment': OrderedDict([('Genome-Annotation-Data',\n",
       "               OrderedDict([('Annotation Provider', 'NCBI RefSeq'),\n",
       "                            ('Annotation Date', '12/14/2021 01:40:52'),\n",
       "                            ('Annotation Pipeline',\n",
       "                             'NCBI Prokaryotic Genome Annotation Pipeline (PGAP)'),\n",
       "                            ('Annotation Method',\n",
       "                             'Best-placed reference protein set; GeneMarkS-2+'),\n",
       "                            ('Annotation Software revision', '5.3'),\n",
       "                            ('Features Annotated',\n",
       "                             'Gene; CDS; rRNA; tRNA; ncRNA; repeat_region'),\n",
       "                            ('Genes (total)', '3,275'),\n",
       "                            ('CDSs (total)', '3,219'),\n",
       "                            ('Genes (coding)', '3,170'),\n",
       "                            ('CDSs (with protein)', '3,170'),\n",
       "                            ('Genes (RNA)', '56'),\n",
       "                            ('rRNAs', '3, 3, 3 (5S, 16S, 23S)'),\n",
       "                            ('complete rRNAs', '3, 3, 3 (5S, 16S, 23S)'),\n",
       "                            ('tRNAs', '43'),\n",
       "                            ('ncRNAs', '4'),\n",
       "                            ('Pseudo Genes (total)', '49'),\n",
       "                            ('CDSs (without protein)', '49'),\n",
       "                            ('Pseudo Genes (ambiguous residues)', '0 of 49'),\n",
       "                            ('Pseudo Genes (frameshifted)', '17 of 49'),\n",
       "                            ('Pseudo Genes (incomplete)', '31 of 49'),\n",
       "                            ('Pseudo Genes (internal stop)', '11 of 49'),\n",
       "                            ('Pseudo Genes (multiple problems)', '9 of 49'),\n",
       "                            ('CRISPR Arrays', '1')]))])}"
      ]
     },
     "execution_count": 4,
     "metadata": {},
     "output_type": "execute_result"
    }
   ],
   "source": [
    "gb_obj.annotations"
   ]
  },
  {
   "cell_type": "code",
   "execution_count": 5,
   "metadata": {},
   "outputs": [
    {
     "data": {
      "text/plain": [
       "3133"
      ]
     },
     "execution_count": 5,
     "metadata": {},
     "output_type": "execute_result"
    }
   ],
   "source": [
    "#extração das sequências genéticas\n",
    "genes=[]\n",
    "for feature in gb_obj.features:\n",
    "    if feature.type=='gene':\n",
    "        genes.append(feature)\n",
    "len(genes)"
   ]
  },
  {
   "cell_type": "code",
   "execution_count": 6,
   "metadata": {},
   "outputs": [
    {
     "data": {
      "text/plain": [
       "6160"
      ]
     },
     "execution_count": 6,
     "metadata": {},
     "output_type": "execute_result"
    }
   ],
   "source": [
    "gene_old_tag = []\n",
    "for feature in gb_obj.features:\n",
    "    if feature.qualifiers.get('old_locus_tag'):\n",
    "        gene_old_tag.append(feature)\n",
    "len(gene_old_tag)"
   ]
  },
  {
   "cell_type": "markdown",
   "metadata": {},
   "source": [
    "Lista de zonas codificantes"
   ]
  },
  {
   "cell_type": "code",
   "execution_count": 7,
   "metadata": {},
   "outputs": [
    {
     "data": {
      "text/plain": [
       "3077"
      ]
     },
     "execution_count": 7,
     "metadata": {},
     "output_type": "execute_result"
    }
   ],
   "source": [
    "CDSs=[]\n",
    "for feature in gb_obj.features:\n",
    "    if feature.type=='CDS':\n",
    "        CDSs.append(feature)\n",
    "len(CDSs)"
   ]
  },
  {
   "cell_type": "markdown",
   "metadata": {},
   "source": [
    "Gene de interesse: mip"
   ]
  },
  {
   "cell_type": "code",
   "execution_count": 21,
   "metadata": {},
   "outputs": [
    {
     "name": "stdout",
     "output_type": "stream",
     "text": [
      "gene found\n"
     ]
    },
    {
     "data": {
      "text/plain": [
       "1"
      ]
     },
     "execution_count": 21,
     "metadata": {},
     "output_type": "execute_result"
    }
   ],
   "source": [
    "hits_1=[]\n",
    "\n",
    "gene_of_interest='mip'\n",
    "for gene in genes:\n",
    "    if 'gene' in gene.qualifiers.keys():\n",
    "        if gene_of_interest == gene.qualifiers['gene'][0]:\n",
    "            hits_1.append(gene)\n",
    "            print('gene found')\n",
    "len(hits_1)"
   ]
  },
  {
   "cell_type": "markdown",
   "metadata": {},
   "source": [
    "Gene de interesse: LpeA"
   ]
  },
  {
   "cell_type": "code",
   "execution_count": 22,
   "metadata": {},
   "outputs": [
    {
     "name": "stdout",
     "output_type": "stream",
     "text": [
      "gene found\n"
     ]
    },
    {
     "data": {
      "text/plain": [
       "1"
      ]
     },
     "execution_count": 22,
     "metadata": {},
     "output_type": "execute_result"
    }
   ],
   "source": [
    "hits_2=[]\n",
    "\n",
    "gene_of_interest='lpp2879'\n",
    "for gene in genes:\n",
    "    if 'old_locus_tag' in gene.qualifiers.keys():\n",
    "        if gene_of_interest == gene.qualifiers['old_locus_tag'][0]:\n",
    "            hits_2.append(gene)\n",
    "            print('gene found')\n",
    "len(hits_2)"
   ]
  },
  {
   "cell_type": "markdown",
   "metadata": {},
   "source": [
    "Gene de interesse: LpeB"
   ]
  },
  {
   "cell_type": "code",
   "execution_count": 23,
   "metadata": {},
   "outputs": [
    {
     "name": "stdout",
     "output_type": "stream",
     "text": [
      "gene found\n"
     ]
    },
    {
     "data": {
      "text/plain": [
       "1"
      ]
     },
     "execution_count": 23,
     "metadata": {},
     "output_type": "execute_result"
    }
   ],
   "source": [
    "hits_3=[]\n",
    "\n",
    "gene_of_interest='lpeB'\n",
    "for gene in genes:\n",
    "    if 'gene' in gene.qualifiers.keys():\n",
    "        if gene_of_interest == gene.qualifiers['gene'][0]:\n",
    "            hits_3.append(gene)\n",
    "            print('gene found')\n",
    "len(hits_3)"
   ]
  },
  {
   "cell_type": "code",
   "execution_count": 26,
   "metadata": {},
   "outputs": [
    {
     "name": "stdout",
     "output_type": "stream",
     "text": [
      "type: gene\n",
      "location: [959507:960209](+)\n",
      "qualifiers:\n",
      "    Key: gene, Value: ['mip']\n",
      "    Key: locus_tag, Value: ['LPP_RS04265']\n",
      "    Key: old_locus_tag, Value: ['lpp0855']\n",
      "\n"
     ]
    }
   ],
   "source": [
    "for i in hits_1:\n",
    "    print(i)"
   ]
  },
  {
   "cell_type": "code",
   "execution_count": 27,
   "metadata": {},
   "outputs": [
    {
     "name": "stdout",
     "output_type": "stream",
     "text": [
      "type: gene\n",
      "location: [3280793:3281861](+)\n",
      "qualifiers:\n",
      "    Key: locus_tag, Value: ['LPP_RS14525']\n",
      "    Key: old_locus_tag, Value: ['lpp2879']\n",
      "\n"
     ]
    }
   ],
   "source": [
    "for i in hits_2:\n",
    "    print(i)"
   ]
  },
  {
   "cell_type": "code",
   "execution_count": 28,
   "metadata": {},
   "outputs": [
    {
     "name": "stdout",
     "output_type": "stream",
     "text": [
      "type: gene\n",
      "location: [3281865:3284910](+)\n",
      "qualifiers:\n",
      "    Key: gene, Value: ['lpeB']\n",
      "    Key: locus_tag, Value: ['LPP_RS14530']\n",
      "    Key: old_locus_tag, Value: ['lpp2880']\n",
      "\n"
     ]
    }
   ],
   "source": [
    "for i in hits_3:\n",
    "    print(i)"
   ]
  }
 ],
 "metadata": {
  "interpreter": {
   "hash": "f6f09947e253af544d68523b25c84466c5032576772f7e30eec03ecb9a460324"
  },
  "kernelspec": {
   "display_name": "Python 3",
   "language": "python",
   "name": "python3"
  },
  "language_info": {
   "codemirror_mode": {
    "name": "ipython",
    "version": 3
   },
   "file_extension": ".py",
   "mimetype": "text/x-python",
   "name": "python",
   "nbconvert_exporter": "python",
   "pygments_lexer": "ipython3",
   "version": "3.8.8"
  }
 },
 "nbformat": 4,
 "nbformat_minor": 4
}
